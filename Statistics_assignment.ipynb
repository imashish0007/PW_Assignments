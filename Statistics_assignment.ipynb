{
  "nbformat": 4,
  "nbformat_minor": 0,
  "metadata": {
    "colab": {
      "provenance": [],
      "authorship_tag": "ABX9TyOpYN+YCSHMg9zZ93mYbi3c",
      "include_colab_link": true
    },
    "kernelspec": {
      "name": "python3",
      "display_name": "Python 3"
    },
    "language_info": {
      "name": "python"
    }
  },
  "cells": [
    {
      "cell_type": "markdown",
      "metadata": {
        "id": "view-in-github",
        "colab_type": "text"
      },
      "source": [
        "<a href=\"https://colab.research.google.com/github/imashish0007/PW_Assignments/blob/main/Statistics_assignment.ipynb\" target=\"_parent\"><img src=\"https://colab.research.google.com/assets/colab-badge.svg\" alt=\"Open In Colab\"/></a>"
      ]
    },
    {
      "cell_type": "markdown",
      "source": [
        "## Statistics assignment\n"
      ],
      "metadata": {
        "id": "-MiNwzzLV1wt"
      }
    },
    {
      "cell_type": "code",
      "execution_count": null,
      "metadata": {
        "id": "7vuvRmBwVBGV"
      },
      "outputs": [],
      "source": [
        "1. Explain the different types of data (qualitative and quantitative) and provide examples of each. Discuss\n",
        "nominal, ordinal, interval, and ratio scales."
      ]
    },
    {
      "cell_type": "markdown",
      "source": [
        "**Types of Data**\n",
        "\n",
        "**Qualitative Data (Categorical Data):**\n",
        "\n",
        "\n",
        "This type of data describes qualities or characteristics and is not about numbers.\n",
        "\n",
        "Examples:\n",
        "\n",
        "Nominal Data: Categories without any order. For example:\n",
        "\n",
        "Types of pets (dog, cat, bird)\n",
        "\n",
        "Colors (red, blue, green)\n",
        "\n",
        "Ordinal Data: Categories that have a specific order. For example:\n",
        "\n",
        "Movie ratings (bad, okay, good, excellent)\n",
        "\n",
        "Education levels (high school, college, graduate)\n",
        "\n",
        "\n",
        "**Quantitative Data (Numeric Data):**\n",
        "\n",
        "This type of data is all about numbers and can be measured.\n",
        "\n",
        "Examples:\n",
        "\n",
        "Interval Data: Numbers with meaningful differences but no true zero. For example:\n",
        "\n",
        "Temperature (20°C is warmer than 10°C, but 0°C doesn’t mean 'no temperature')\n",
        "\n",
        "Years (the difference between 2000 and 2010)\n",
        "\n",
        "Ratio Data: Numbers with meaningful differences and a true zero point. For example:\n",
        "\n",
        "Height (0 cm means no height)\n",
        "\n",
        "Weight (0 kg means no weight)\n",
        "\n",
        "Summary of Scales\n",
        "\n",
        "Nominal Scale: Just names or categories (like types of fruit).\n",
        "\n",
        "Ordinal Scale: Categories with a rank or order (like satisfaction levels).\n",
        "\n",
        "Interval Scale: Numbers with equal distances but no true zero (like temperature).\n",
        "\n",
        "Ratio Scale: Numbers with equal distances and a true zero (like weight or height)."
      ],
      "metadata": {
        "id": "KxHQexe5VVpQ"
      }
    },
    {
      "cell_type": "code",
      "source": [
        "2. What are the measures of central tendency, and when should you use each? Discuss the mean, median,\n",
        "and mode with examples and situations where each is appropriate."
      ],
      "metadata": {
        "id": "xVL8WQcwWllo"
      },
      "execution_count": null,
      "outputs": []
    },
    {
      "cell_type": "markdown",
      "source": [
        "\n",
        "Measures of central tendency are ways to describe the \"center\" or typical value of a set of data. The three main measures are the mean, median, and mode. Each one is useful in different situations.\n",
        "\n",
        "\n",
        "1. **Mean**\n",
        "\n",
        "Definition:\n",
        "\n",
        " The mean is what most people commonly refer to as the \"average.\" You calculate it by adding up all the numbers in a data set and then dividing by how many numbers there are.\n",
        "\n",
        "Example: If you have the numbers 2, 3, 5, and 10, the mean is (2 + 3 + 5 + 10) / 4 = 20 / 4 = 5.\n",
        "\n",
        "When to Use: The mean is best used when the data is evenly distributed without extreme values (outliers). For example, if you want to find the average score of students in a class, the mean is appropriate.\n",
        "\n",
        "2. **Median**\n",
        "Definition: The median is the middle value when you arrange the numbers in order. If there’s an even number of values, you take the average of the two middle numbers.\n",
        "\n",
        "Example: For the numbers 2, 3, 5, and 10, when arranged in order, the median is (3 + 5) / 2 = 4. If you have the numbers 2, 3, 5, 10, and 12, the median is 5 (the middle number).\n",
        "\n",
        "When to Use: The median is useful when the data has outliers or is skewed. For example, if you’re looking at household incomes in a neighborhood where most people earn around 50,000rs, but one person earns 1,000,000rs, the median will give a better idea of what a typical income looks like.\n",
        "\n",
        "3. **Mode**\n",
        "\n",
        "Definition: The mode is the number that appears most frequently in a data set. There can be more than one mode if multiple numbers appear with the same highest frequency.\n",
        "\n",
        "Example: In the set of numbers 1, 2, 2, 3, 4, the mode is 2 because it appears most often. If you have the numbers 1, 1, 2, 2, 3, the modes are 1 and 2 (bimodal).\n",
        "\n",
        "When to Use: The mode is helpful when you want to know which value is the most common. For example, if you’re looking at the most popular ice cream flavor among a group of people, the mode will tell you which flavor is chosen the most.\n"
      ],
      "metadata": {
        "id": "Leb7pWF2W-G0"
      }
    },
    {
      "cell_type": "code",
      "source": [
        "3. Explain the concept of dispersion. How do variance and standard deviation measure the spread of data?"
      ],
      "metadata": {
        "id": "HHnrJK1ZX0pB"
      },
      "execution_count": null,
      "outputs": []
    },
    {
      "cell_type": "markdown",
      "source": [
        "Dispersion refers to how spread out or varied a set of data is. It helps us understand how much the values in a data set differ from each other and from the average (mean). In simple terms, while measures of central tendency (like mean, median, and mode) tell us about the center of the data, measures of dispersion tell us about the range and variability of the data.\n",
        "\n",
        "\n",
        "**Key Concepts of Dispersion**\n",
        "\n",
        "Range: This is the simplest measure of dispersion. It’s the difference between the highest and lowest values in a data set. For example, if your data set is 2, 4, 6, and 10, the range is 10 - 2 = 8. This tells you how far apart the values are.\n",
        "\n",
        "\n",
        "Variance: Variance measures how much the values in a data set differ from the mean. It gives you an idea of the average squared difference from the mean.\n",
        "\n",
        "\n",
        "How to Calculate Variance:\n",
        "\n",
        "Find the mean of the data.\n",
        "\n",
        "Subtract the mean from each number to find the difference.\n",
        "\n",
        "Square each difference (to make them positive).\n",
        "\n",
        "Find the average of those squared differences.\n",
        "\n",
        "Example: For the numbers 2, 4, 6:\n",
        "\n",
        "Mean = (2 + 4 + 6) / 3 = 4\n",
        "\n",
        "Differences: (2-4), (4-4), (6-4) = -2, 0, 2\n",
        "\n",
        "Squared differences: 4, 0, 4\n",
        "\n",
        "Variance = (4 + 0 + 4) / 3 = 8 / 3 ≈ 2.67\n",
        "\n",
        "Standard Deviation: This is simply the square root of the variance. It gives you a measure of dispersion in the same units as the original data, making it easier to interpret.\n",
        "\n",
        "\n",
        "Example: Continuing from the previous example, the standard deviation would be the square root of the variance: √(2.67) ≈ 1.63. This means that, on average, the numbers in the data set are about 1.63 units away from the mean."
      ],
      "metadata": {
        "id": "o-vIPFF6YFiY"
      }
    },
    {
      "cell_type": "code",
      "source": [
        "4. What is a box plot, and what can it tell you about the distribution of data?"
      ],
      "metadata": {
        "id": "OoQ1kO0tYif5"
      },
      "execution_count": null,
      "outputs": []
    },
    {
      "cell_type": "markdown",
      "source": [
        "A box plot, also known as a box-and-whisker plot, is a simple way to visualize the distribution of a data set. It provides a summary of the data's central tendency, dispersion, and overall spread. Here’s how it works and what it can tell you:\n",
        "\n",
        "**Components of a Box Plot**\n",
        "\n",
        "Box: The main part of the box plot is a box that represents the middle 50% of the data. This is called the interquartile range (IQR), which is the range between the first quartile (Q1) and the third quartile (Q3).\n",
        "\n",
        "Q1 (First Quartile): The median of the lower half of the data (25th percentile).\n",
        "\n",
        "Q3 (Third Quartile): The median of the upper half of the data (75th percentile).\n",
        "\n",
        "Median Line: Inside the box, there is a line that represents the median (the middle value of the data set). This divides the box into two parts.\n",
        "\n",
        "Whiskers: The lines extending from the box (called whiskers) show the range of the data outside the middle 50%. They typically extend to the smallest and largest values that are not considered outliers.\n",
        "\n",
        "Outliers: Any data points that fall significantly outside the range of the whiskers are marked as individual points. These are called outliers.\n",
        "\n",
        "What a Box Plot Can Tell You\n",
        "\n",
        "Central Tendency: The line inside the box shows the median, giving you a quick idea of the center of the data.\n",
        "\n",
        "Spread of Data: The length of the box (IQR) shows how spread out the middle 50% of the data is. A longer box means more variability, while a shorter box means the data is more concentrated.\n",
        "\n",
        "Range: The whiskers show the overall range of the data, helping you see the minimum and maximum values.\n",
        "\n",
        "Outliers: Any points outside the whiskers indicate outliers, which can be important for understanding unusual values in your data.\n",
        "\n",
        "Example\n",
        "\n",
        "Imagine you have test scores for a class:\n",
        "\n",
        "Scores: 55, 60, 65, 70, 75, 80, 85, 90, 95, 100\n",
        "\n",
        "A box plot for these scores would show:\n",
        "\n",
        "The box from the 25th percentile (Q1) to the 75th percentile (Q3), with the median line inside.\n",
        "\n",
        "Whiskers extending to the lowest and highest scores (55 and 100).\n",
        "If there were any unusually low or high scores, they would be marked as outliers."
      ],
      "metadata": {
        "id": "Te9AaMelYru6"
      }
    },
    {
      "cell_type": "markdown",
      "source": [
        "5. Discuss the role of random sampling in making inferences about populations."
      ],
      "metadata": {
        "id": "la1lXN8CY6mb"
      }
    },
    {
      "cell_type": "markdown",
      "source": [
        "Random sampling is a method used in statistics to select a group of individuals from a larger population in a way that gives each individual an equal chance of being chosen. This is important for making accurate inferences about the entire population based on the sample. Here’s how it works and why it matters:\n",
        "\n",
        "Role of Random Sampling\n",
        "\n",
        "Representativeness:\n",
        "\n",
        "When you randomly select a sample, it is more likely to represent the larger population. This means that the characteristics of the sample (like age, gender, income, etc.) will reflect those of the whole population.\n",
        "For example, if you want to know the average height of students in a school, randomly selecting students from different grades will give you a better idea than just measuring the height of students in one class.\n",
        "\n",
        "Reducing Bias:\n",
        "\n",
        "Random sampling helps eliminate bias, which can occur if certain groups are overrepresented or underrepresented in the sample. Bias can lead to incorrect conclusions about the population.\n",
        "\n",
        "For instance, if you only surveyed people who visit a gym to find out about fitness habits, you might miss the habits of people who don’t go to the gym, leading to a biased view.\n",
        "\n",
        "Generalization:\n",
        "\n",
        "When you have a representative random sample, you can make generalizations about the entire population. This means you can use the findings from your sample to draw conclusions about everyone in the population.\n",
        "\n",
        "For example, if a random sample of 1,000 voters shows that 60% support a particular candidate, you can infer that around 60% of the entire population of voters might support that candidate.\n",
        "\n",
        "Statistical Analysis:\n",
        "\n",
        "Random samples allow researchers to use statistical methods to analyze data and estimate population parameters (like averages or proportions) with a known level of confidence.\n",
        "\n",
        "This means you can calculate how certain you are about your findings. For example, you might say, \"We are 95% confident that the true average height of all students is between 5'5\" and 5'7\" based on our sample.\""
      ],
      "metadata": {
        "id": "d6rWpur-ZQUn"
      }
    },
    {
      "cell_type": "code",
      "source": [
        "6. Explain the concept of skewness and its types. How does skewness affect the interpretation of data?"
      ],
      "metadata": {
        "id": "IEXvhsnVZab1"
      },
      "execution_count": null,
      "outputs": []
    },
    {
      "cell_type": "markdown",
      "source": [
        "Skewness is a statistical term that describes the asymmetry of a data distribution. In simple terms, it tells us whether the data is spread out more on one side than the other. Understanding skewness helps us interpret data more accurately, especially when looking at averages and making decisions based on that data.\n",
        "\n",
        "**Types of Skewness**\n",
        "\n",
        "Positive Skewness (Right Skewed):\n",
        "\n",
        "In a positively skewed distribution, most of the data points are concentrated on the left side, with a long tail extending to the right.\n",
        "\n",
        "Example: Income distribution is often positively skewed because most people earn average or below-average incomes, while a few individuals earn very high incomes.\n",
        "\n",
        "Effect on Data Interpretation: In a positively skewed distribution, the mean (average) is usually greater than the median (middle value). This can give a misleading impression of the \"typical\" value, as the mean is pulled up by the high values in the tail.\n",
        "\n",
        "Negative Skewness (Left Skewed):\n",
        "\n",
        "In a negatively skewed distribution, most of the data points are concentrated on the right side, with a long tail extending to the left.\n",
        "\n",
        "Example: Test scores can be negatively skewed if most students score high marks, but a few score very low.\n",
        "\n",
        "Effect on Data Interpretation: In a negatively skewed distribution, the mean is usually less than the median. This can lead to an underestimation of the \"typical\" value, as the mean is pulled down by the low values in the tail.\n",
        "\n",
        "No Skewness (Symmetrical):\n",
        "\n",
        "In a symmetrical distribution, the data is evenly distributed around the mean, and the left and right sides are mirror images.\n",
        "\n",
        "Example: A normal distribution (bell curve) is a common example of no skewness.\n",
        "Effect on Data Interpretation: In a symmetrical distribution, the mean, median, and mode are all approximately equal, making it easier to interpret the data.\n",
        "\n",
        "**How Skewness Affects Data Interpretation**\n",
        "\n",
        "Choosing the Right Average: When data is skewed, the mean may not accurately represent the typical value. In such cases, the median is often a better measure of central tendency because it is less affected by extreme values.\n",
        "\n",
        "Understanding Variability: Skewness can indicate the presence of outliers or extreme values in the data. Recognizing skewness helps in understanding the variability and potential risks associated with the data.\n",
        "\n",
        "Making Decisions: In fields like finance, healthcare, and social sciences, understanding skewness can influence decisions. For example, if a company is analyzing customer spending and finds a positive skew, it might focus on retaining high-value customers rather than just looking at average spending."
      ],
      "metadata": {
        "id": "AsAqOmgtZ2qq"
      }
    },
    {
      "cell_type": "code",
      "source": [
        "7. What is the interquartile range (IQR), and how is it used to detect outliers?"
      ],
      "metadata": {
        "id": "4VjxoOxraJwz"
      },
      "execution_count": null,
      "outputs": []
    },
    {
      "cell_type": "markdown",
      "source": [
        "The interquartile range (IQR) is a measure of statistical dispersion that shows the range of the middle 50% of a data set. It helps us understand how spread out the central portion of the data is and is particularly useful for detecting outliers.\n",
        "\n",
        "What is the IQR?\n",
        "\n",
        "Calculating the IQR:\n",
        "\n",
        "First, you need to find the first quartile (Q1) and the third quartile (Q3):\n",
        "\n",
        "Q1 is the median of the lower half of the data (25th percentile).\n",
        "\n",
        "Q3 is the median of the upper half of the data (75th percentile).\n",
        "\n",
        "The IQR is then calculated as: [ \\text{IQR} = Q3 - Q1 ]\n",
        "\n",
        "This value tells you the range within which the middle 50% of the data lies.\n",
        "\n",
        "**How is the IQR Used to Detect Outliers?**\n",
        "\n",
        "Identifying Outliers:\n",
        "\n",
        "To detect outliers, you can use the IQR to create boundaries:\n",
        "\n",
        "Lower Bound: ( Q1 - 1.5 \\times \\text{IQR} )\n",
        "\n",
        "Upper Bound: ( Q3 + 1.5 \\times \\text{IQR} )\n",
        "\n",
        "Any data points that fall below the lower bound or above the upper bound are considered outliers.\n",
        "\n",
        "**Example**\n",
        "\n",
        "Let’s say you have the following data set of test scores:\n",
        "\n",
        "\n",
        "55, 60, 65, 70, 75, 80, 85, 90, 95, 100\n",
        "\n",
        "Find Q1 and Q3:\n",
        "\n",
        "The median (Q2) is 75.\n",
        "\n",
        "The lower half is 55, 60, 65, 70 (Q1 = 62.5).\n",
        "\n",
        "The upper half is 80, 85, 90, 95, 100 (Q3 = 90).\n",
        "\n",
        "Calculate the IQR:\n",
        "\n",
        "IQR = Q3 - Q1 = 90 - 62.5 = 27.5\n",
        "\n",
        "Determine Outlier Boundaries:\n",
        "\n",
        "Lower Bound = Q1 - 1.5 × IQR = 62.5 - (1.5 × 27.5) = 62.5 - 41.25 = 21.25\n",
        "\n",
        "Upper Bound = Q3 + 1.5 × IQR = 90 + (1.5 × 27.5) = 90 + 41.25 = 131.25\n",
        "\n",
        "Check for Outliers:\n",
        "\n",
        "Any scores below 21.25 or above 131.25 would be considered outliers. In this case, there are no outliers in the data set."
      ],
      "metadata": {
        "id": "gj4GHYHWaJXI"
      }
    },
    {
      "cell_type": "code",
      "source": [
        "8. Discuss the conditions under which the binomial distribution is used."
      ],
      "metadata": {
        "id": "-2kFp4Cya8Bm"
      },
      "execution_count": null,
      "outputs": []
    },
    {
      "cell_type": "markdown",
      "source": [
        "The binomial distribution is a statistical distribution that describes the number of successes in a fixed number of independent trials, where each trial has two possible outcomes (often referred to as \"success\" and \"failure\"). Here are the key conditions under which the binomial distribution is used:\n",
        "\n",
        "**Conditions for Using the Binomial Distribution**\n",
        "\n",
        "Fixed Number of Trials:\n",
        "\n",
        "You must have a specific number of trials (n). For example, if you flip a coin 10 times, that’s your fixed number of trials.\n",
        "\n",
        "Two Possible Outcomes:\n",
        "\n",
        "Each trial must result in one of two outcomes. These are often labeled as \"success\" (e.g., getting heads in a coin flip) and \"failure\" (e.g., getting tails).\n",
        "\n",
        "Independent Trials:\n",
        "\n",
        "The outcome of one trial must not affect the outcome of another trial. For instance, if you flip a coin, the result of one flip doesn’t change the result of the next flip.\n",
        "\n",
        "Constant Probability:\n",
        "\n",
        "The probability of success (p) must remain the same for each trial. For example, if you’re flipping a fair coin, the probability of getting heads (success) is always 0.5 for each flip."
      ],
      "metadata": {
        "id": "EhmkVSTnbM6P"
      }
    },
    {
      "cell_type": "code",
      "source": [
        "9. Explain the properties of the normal distribution and the empirical rule (68-95-99.7 rule)."
      ],
      "metadata": {
        "id": "bBCCseMibZ9c"
      },
      "execution_count": null,
      "outputs": []
    },
    {
      "cell_type": "markdown",
      "source": [
        "The normal distribution is a common probability distribution in statistics that is often used to represent real-valued random variables whose distributions are not known. It has a specific shape and several important properties. Here’s a simple explanation of its properties and the empirical rule (also known as the 68-95-99.7 rule).\n",
        "\n",
        "**Properties of the Normal Distribution**\n",
        "\n",
        "Bell-Shaped Curve:\n",
        "\n",
        "The normal distribution is shaped like a bell. This means that most of the data points cluster around the mean (average), and as you move away from the mean, the frequency of data points decreases.\n",
        "\n",
        "Symmetry:\n",
        "\n",
        "The normal distribution is symmetrical around the mean. This means that the left side of the curve is a mirror image of the right side. The mean, median, and mode of a normal distribution are all the same and located at the center of the curve.\n",
        "\n",
        "Defined by Mean and Standard Deviation:\n",
        "\n",
        "The shape and position of the normal distribution are determined by two parameters: the mean (μ), which indicates the center of the distribution, and the standard deviation (σ), which measures the spread or width of the distribution. A larger standard deviation means a wider curve, while a smaller standard deviation means a narrower curve.\n",
        "\n",
        "Asymptotic:\n",
        "\n",
        "The tails of the normal distribution curve approach the horizontal axis but never actually touch it. This means that there is always a small probability of extreme values, no matter how far you go from the mean.\n",
        "\n",
        "The Empirical Rule (68-95-99.7 Rule)\n",
        "\n",
        "The empirical rule provides a quick way to understand how data is distributed in a normal distribution. It states that:\n",
        "\n",
        "68% of the Data:\n",
        "\n",
        "About 68% of the data points fall within one standard deviation (σ) of the mean (μ). This means if you take the mean and add or subtract one standard deviation, you will capture about 68% of the data.\n",
        "\n",
        "95% of the Data:\n",
        "\n",
        "About 95% of the data points fall within two standard deviations of the mean. So, if you add or subtract two standard deviations from the mean, you will capture about 95% of the data.\n",
        "\n",
        "99.7% of the Data:\n",
        "\n",
        "About 99.7% of the data points fall within three standard deviations of the mean. This means that if you add or subtract three standard deviations from the mean, you will capture almost all of the data (99.7%)."
      ],
      "metadata": {
        "id": "8jyE8c_Ubpzz"
      }
    },
    {
      "cell_type": "code",
      "source": [
        "10. Provide a real-life example of a Poisson process and calculate the probability for a specific event."
      ],
      "metadata": {
        "id": "7NCfBiODb18h"
      },
      "execution_count": null,
      "outputs": []
    },
    {
      "cell_type": "markdown",
      "source": [
        "example of a Poisson process involving the number of emails received by a customer support team in an hour. Suppose the team receives an average of 5 emails per hour. We can use the Poisson distribution to calculate the probability of receiving a specific number of emails in that hour.\n",
        "\n",
        "Example Scenario\n",
        "\n",
        "Average rate (λ): 5 emails per hour\n",
        "\n",
        "Event of interest: Calculate the probability of receiving exactly 3 emails in one hour.\n",
        "\n",
        "Poisson Probability Formula\n",
        "\n",
        "The formula for the Poisson probability is: [ P(X = k) = \\frac{e^{-\\lambda} \\cdot \\lambda^k}{k!} ] Where:\n",
        "\n",
        "( P(X = k) ) is the probability of observing ( k ) events (emails).\n",
        "\n",
        "( e ) is approximately equal to 2.71828.\n",
        "\n",
        "( \\lambda ) is the average rate (5 emails).\n",
        "\n",
        "( k ) is the number of events we want to find the probability for (3 emails).\n",
        "\n",
        "( k! ) is the factorial of ( k )."
      ],
      "metadata": {
        "id": "xoEV8jUzccw9"
      }
    },
    {
      "cell_type": "code",
      "source": [
        "#Example\n",
        "import math\n",
        "\n",
        "# Given values\n",
        "lambda_rate = 5  # average number of emails per hour\n",
        "k = 3            # number of emails we want to find the probability for\n",
        "\n",
        "# Calculate the Poisson probability\n",
        "def poisson_probability(lmbda, k):\n",
        "    return (math.exp(-lmbda) * (lmbda ** k)) / math.factorial(k)\n",
        "\n",
        "# Calculate the probability of receiving exactly k emails\n",
        "probability = poisson_probability(lambda_rate, k)\n",
        "\n",
        "print(f\"The probability of receiving exactly {k} emails in one hour is: {probability:.4f}\")"
      ],
      "metadata": {
        "colab": {
          "base_uri": "https://localhost:8080/"
        },
        "id": "DmZvADG4cjKP",
        "outputId": "c12665ee-d960-4f5d-a6f4-37328fda1d49"
      },
      "execution_count": 2,
      "outputs": [
        {
          "output_type": "stream",
          "name": "stdout",
          "text": [
            "The probability of receiving exactly 3 emails in one hour is: 0.1404\n"
          ]
        }
      ]
    },
    {
      "cell_type": "code",
      "source": [
        "11. Explain what a random variable is and differentiate between discrete and continuous random variables."
      ],
      "metadata": {
        "id": "X5yqdtZGcvUj"
      },
      "execution_count": null,
      "outputs": []
    },
    {
      "cell_type": "markdown",
      "source": [
        "A random variable is a numerical outcome of a random process or experiment. It assigns a number to each possible outcome in a way that allows us to analyze and make predictions about uncertain events. Random variables can be classified into two main types: discrete and continuous.\n",
        "\n",
        "1. Discrete Random Variables\n",
        "\n",
        "Definition: A discrete random variable can take on a countable number of distinct values. This means you can list all the possible outcomes, and they are often whole numbers.\n",
        "\n",
        "Examples:\n",
        "\n",
        "The number of students in a classroom (you can have 20, 21, 22 students, etc., but not 20.5).\n",
        "\n",
        "The number of heads when flipping a coin three times (possible outcomes are 0, 1, 2, or 3 heads).\n",
        "\n",
        "The number of cars passing through a toll booth in an hour (you can count them: 0, 1, 2, etc.).\n",
        "\n",
        "2. Continuous Random Variables\n",
        "\n",
        "Definition: A continuous random variable can take on an infinite number of values within a given range. This means it can include fractions and decimals, and you cannot list all possible outcomes.\n",
        "\n",
        "Examples:\n",
        "\n",
        "The height of a person (it can be 170.5 cm, 171.2 cm, etc.).\n",
        "\n",
        "The time it takes to run a marathon (it can be 3 hours, 3.5 hours, or any value in between).\n",
        "\n",
        "The temperature in a city (it can be 20.1°C, 20.2°C, etc.).\n",
        "\n",
        "Key Differences\n",
        "\n",
        "Countability:\n",
        "\n",
        "Discrete Random Variables: Countable outcomes (like the number of students).\n",
        "\n",
        "Continuous Random Variables: Uncountable outcomes (like height or time).\n",
        "\n",
        "Nature of Values:\n",
        "\n",
        "Discrete Random Variables: Usually whole numbers (integers).\n",
        "\n",
        "Continuous Random Variables: Can take any value within a range, including fractions and decimals."
      ],
      "metadata": {
        "id": "MH6xVpLCdbel"
      }
    },
    {
      "cell_type": "code",
      "source": [
        "12. Provide an example dataset, calculate both covariance and correlation, and interpret the results."
      ],
      "metadata": {
        "id": "IQB1N1-ldqD7"
      },
      "execution_count": null,
      "outputs": []
    },
    {
      "cell_type": "code",
      "source": [
        "import numpy as np\n",
        "import pandas as pd\n",
        "\n",
        "# Create the dataset\n",
        "data = {\n",
        "    'Hours_Studied': [1, 2, 3, 4, 5],\n",
        "    'Test_Score': [50, 55, 65, 70, 80]\n",
        "}\n",
        "# Convert to a DataFrame\n",
        "df = pd.DataFrame(data)\n",
        "\n",
        "# Calculate covariance\n",
        "covariance = np.cov(df['Hours_Studied'], df['Test_Score'])[0][1]\n",
        "\n",
        "# Calculate correlation\n",
        "correlation = np.corrcoef(df['Hours_Studied'], df['Test_Score'])[0][1]\n",
        "\n",
        "# Print the results\n",
        "print(f\"Covariance: {covariance:.2f}\")\n",
        "print(f\"Correlation: {correlation:.2f}\")"
      ],
      "metadata": {
        "colab": {
          "base_uri": "https://localhost:8080/"
        },
        "id": "GriONKdbeEQ8",
        "outputId": "6b36871c-226f-42eb-945b-81cadd2e698b"
      },
      "execution_count": 3,
      "outputs": [
        {
          "output_type": "stream",
          "name": "stdout",
          "text": [
            "Covariance: 18.75\n",
            "Correlation: 0.99\n"
          ]
        }
      ]
    },
    {
      "cell_type": "code",
      "source": [],
      "metadata": {
        "id": "BES-HDh2ePdP"
      },
      "execution_count": null,
      "outputs": []
    }
  ]
}